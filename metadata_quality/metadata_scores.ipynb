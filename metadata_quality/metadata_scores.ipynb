{
 "cells": [
  {
   "cell_type": "code",
   "execution_count": 32,
   "metadata": {
    "collapsed": false
   },
   "outputs": [
    {
     "data": {
      "text/html": [
       "<div>\n",
       "<table border=\"1\" class=\"dataframe\">\n",
       "  <thead>\n",
       "    <tr style=\"text-align: right;\">\n",
       "      <th></th>\n",
       "      <th></th>\n",
       "      <th>Collection_count</th>\n",
       "      <th>Collection_Description_count</th>\n",
       "      <th>Title_count</th>\n",
       "      <th>Personal_Name_count</th>\n",
       "      <th>Corporate_Name_count</th>\n",
       "      <th>Role_count</th>\n",
       "      <th>Description_count</th>\n",
       "      <th>Note_count</th>\n",
       "      <th>Type_count</th>\n",
       "      <th>Genre_count</th>\n",
       "      <th>...</th>\n",
       "      <th>File_Name_count</th>\n",
       "      <th>Subject_Topic_count</th>\n",
       "      <th>Subject_Personal_Name_count</th>\n",
       "      <th>Subject_Corporate_Name_count</th>\n",
       "      <th>Location_count</th>\n",
       "      <th>Publisher_count</th>\n",
       "      <th>Place_of_Publication_count</th>\n",
       "      <th>Extent_count</th>\n",
       "      <th>Date_Created_count</th>\n",
       "      <th>Date_Issued_count</th>\n",
       "    </tr>\n",
       "    <tr>\n",
       "      <th></th>\n",
       "      <th>Identifier</th>\n",
       "      <th></th>\n",
       "      <th></th>\n",
       "      <th></th>\n",
       "      <th></th>\n",
       "      <th></th>\n",
       "      <th></th>\n",
       "      <th></th>\n",
       "      <th></th>\n",
       "      <th></th>\n",
       "      <th></th>\n",
       "      <th></th>\n",
       "      <th></th>\n",
       "      <th></th>\n",
       "      <th></th>\n",
       "      <th></th>\n",
       "      <th></th>\n",
       "      <th></th>\n",
       "      <th></th>\n",
       "      <th></th>\n",
       "      <th></th>\n",
       "      <th></th>\n",
       "    </tr>\n",
       "  </thead>\n",
       "  <tbody>\n",
       "    <tr>\n",
       "      <th>0</th>\n",
       "      <th>701-151-005-3057-005</th>\n",
       "      <td>1</td>\n",
       "      <td>1</td>\n",
       "      <td>1</td>\n",
       "      <td>0</td>\n",
       "      <td>0</td>\n",
       "      <td>1</td>\n",
       "      <td>1</td>\n",
       "      <td>0</td>\n",
       "      <td>1</td>\n",
       "      <td>1</td>\n",
       "      <td>...</td>\n",
       "      <td>1</td>\n",
       "      <td>1</td>\n",
       "      <td>5</td>\n",
       "      <td>0</td>\n",
       "      <td>1</td>\n",
       "      <td>0</td>\n",
       "      <td>0</td>\n",
       "      <td>1</td>\n",
       "      <td>1</td>\n",
       "      <td>1</td>\n",
       "    </tr>\n",
       "    <tr>\n",
       "      <th>1</th>\n",
       "      <th>701-151-005-3057-010</th>\n",
       "      <td>1</td>\n",
       "      <td>1</td>\n",
       "      <td>1</td>\n",
       "      <td>0</td>\n",
       "      <td>0</td>\n",
       "      <td>1</td>\n",
       "      <td>0</td>\n",
       "      <td>1</td>\n",
       "      <td>1</td>\n",
       "      <td>1</td>\n",
       "      <td>...</td>\n",
       "      <td>1</td>\n",
       "      <td>1</td>\n",
       "      <td>2</td>\n",
       "      <td>1</td>\n",
       "      <td>0</td>\n",
       "      <td>1</td>\n",
       "      <td>0</td>\n",
       "      <td>1</td>\n",
       "      <td>1</td>\n",
       "      <td>1</td>\n",
       "    </tr>\n",
       "    <tr>\n",
       "      <th>2</th>\n",
       "      <th>701-151-005-3057-014</th>\n",
       "      <td>1</td>\n",
       "      <td>1</td>\n",
       "      <td>1</td>\n",
       "      <td>0</td>\n",
       "      <td>0</td>\n",
       "      <td>1</td>\n",
       "      <td>0</td>\n",
       "      <td>1</td>\n",
       "      <td>1</td>\n",
       "      <td>1</td>\n",
       "      <td>...</td>\n",
       "      <td>1</td>\n",
       "      <td>1</td>\n",
       "      <td>1</td>\n",
       "      <td>1</td>\n",
       "      <td>0</td>\n",
       "      <td>1</td>\n",
       "      <td>0</td>\n",
       "      <td>1</td>\n",
       "      <td>1</td>\n",
       "      <td>1</td>\n",
       "    </tr>\n",
       "    <tr>\n",
       "      <th>3</th>\n",
       "      <th>701-151-005-3061-001</th>\n",
       "      <td>1</td>\n",
       "      <td>1</td>\n",
       "      <td>1</td>\n",
       "      <td>0</td>\n",
       "      <td>0</td>\n",
       "      <td>1</td>\n",
       "      <td>1</td>\n",
       "      <td>0</td>\n",
       "      <td>1</td>\n",
       "      <td>1</td>\n",
       "      <td>...</td>\n",
       "      <td>1</td>\n",
       "      <td>1</td>\n",
       "      <td>2</td>\n",
       "      <td>0</td>\n",
       "      <td>0</td>\n",
       "      <td>1</td>\n",
       "      <td>1</td>\n",
       "      <td>1</td>\n",
       "      <td>1</td>\n",
       "      <td>1</td>\n",
       "    </tr>\n",
       "    <tr>\n",
       "      <th>4</th>\n",
       "      <th>701-151-005-4949-001</th>\n",
       "      <td>1</td>\n",
       "      <td>1</td>\n",
       "      <td>1</td>\n",
       "      <td>0</td>\n",
       "      <td>0</td>\n",
       "      <td>1</td>\n",
       "      <td>0</td>\n",
       "      <td>0</td>\n",
       "      <td>1</td>\n",
       "      <td>1</td>\n",
       "      <td>...</td>\n",
       "      <td>1</td>\n",
       "      <td>2</td>\n",
       "      <td>0</td>\n",
       "      <td>0</td>\n",
       "      <td>0</td>\n",
       "      <td>1</td>\n",
       "      <td>1</td>\n",
       "      <td>1</td>\n",
       "      <td>1</td>\n",
       "      <td>1</td>\n",
       "    </tr>\n",
       "  </tbody>\n",
       "</table>\n",
       "<p>5 rows × 27 columns</p>\n",
       "</div>"
      ],
      "text/plain": [
       "                        Collection_count  Collection_Description_count  \\\n",
       "  Identifier                                                             \n",
       "0 701-151-005-3057-005                 1                             1   \n",
       "1 701-151-005-3057-010                 1                             1   \n",
       "2 701-151-005-3057-014                 1                             1   \n",
       "3 701-151-005-3061-001                 1                             1   \n",
       "4 701-151-005-4949-001                 1                             1   \n",
       "\n",
       "                        Title_count  Personal_Name_count  \\\n",
       "  Identifier                                               \n",
       "0 701-151-005-3057-005            1                    0   \n",
       "1 701-151-005-3057-010            1                    0   \n",
       "2 701-151-005-3057-014            1                    0   \n",
       "3 701-151-005-3061-001            1                    0   \n",
       "4 701-151-005-4949-001            1                    0   \n",
       "\n",
       "                        Corporate_Name_count  Role_count  Description_count  \\\n",
       "  Identifier                                                                  \n",
       "0 701-151-005-3057-005                     0           1                  1   \n",
       "1 701-151-005-3057-010                     0           1                  0   \n",
       "2 701-151-005-3057-014                     0           1                  0   \n",
       "3 701-151-005-3061-001                     0           1                  1   \n",
       "4 701-151-005-4949-001                     0           1                  0   \n",
       "\n",
       "                        Note_count  Type_count  Genre_count  \\\n",
       "  Identifier                                                  \n",
       "0 701-151-005-3057-005           0           1            1   \n",
       "1 701-151-005-3057-010           1           1            1   \n",
       "2 701-151-005-3057-014           1           1            1   \n",
       "3 701-151-005-3061-001           0           1            1   \n",
       "4 701-151-005-4949-001           0           1            1   \n",
       "\n",
       "                              ...          File_Name_count  \\\n",
       "  Identifier                  ...                            \n",
       "0 701-151-005-3057-005        ...                        1   \n",
       "1 701-151-005-3057-010        ...                        1   \n",
       "2 701-151-005-3057-014        ...                        1   \n",
       "3 701-151-005-3061-001        ...                        1   \n",
       "4 701-151-005-4949-001        ...                        1   \n",
       "\n",
       "                        Subject_Topic_count  Subject_Personal_Name_count  \\\n",
       "  Identifier                                                               \n",
       "0 701-151-005-3057-005                    1                            5   \n",
       "1 701-151-005-3057-010                    1                            2   \n",
       "2 701-151-005-3057-014                    1                            1   \n",
       "3 701-151-005-3061-001                    1                            2   \n",
       "4 701-151-005-4949-001                    2                            0   \n",
       "\n",
       "                        Subject_Corporate_Name_count  Location_count  \\\n",
       "  Identifier                                                           \n",
       "0 701-151-005-3057-005                             0               1   \n",
       "1 701-151-005-3057-010                             1               0   \n",
       "2 701-151-005-3057-014                             1               0   \n",
       "3 701-151-005-3061-001                             0               0   \n",
       "4 701-151-005-4949-001                             0               0   \n",
       "\n",
       "                        Publisher_count  Place_of_Publication_count  \\\n",
       "  Identifier                                                          \n",
       "0 701-151-005-3057-005                0                           0   \n",
       "1 701-151-005-3057-010                1                           0   \n",
       "2 701-151-005-3057-014                1                           0   \n",
       "3 701-151-005-3061-001                1                           1   \n",
       "4 701-151-005-4949-001                1                           1   \n",
       "\n",
       "                        Extent_count  Date_Created_count  Date_Issued_count  \n",
       "  Identifier                                                                 \n",
       "0 701-151-005-3057-005             1                   1                  1  \n",
       "1 701-151-005-3057-010             1                   1                  1  \n",
       "2 701-151-005-3057-014             1                   1                  1  \n",
       "3 701-151-005-3061-001             1                   1                  1  \n",
       "4 701-151-005-4949-001             1                   1                  1  \n",
       "\n",
       "[5 rows x 27 columns]"
      ]
     },
     "execution_count": 32,
     "metadata": {},
     "output_type": "execute_result"
    }
   ],
   "source": [
    "import pandas as pd\n",
    "import numpy as np\n",
    "\n",
    "fh = '../files/coll151_scores.csv'\n",
    "df = pd.read_csv(fh, index_col=[0, 1])\n",
    "df.head()"
   ]
  },
  {
   "cell_type": "code",
   "execution_count": 33,
   "metadata": {
    "collapsed": false
   },
   "outputs": [],
   "source": [
    "# check if mandatory elements are present\n",
    "mandatory_cols = ['Collection_count', 'Collection_Description_count', 'File_Name_count',\n",
    "       'Title_count', 'Time_Period_count', 'Description_count', 'Type_count',\n",
    "       'Genre_count', 'Form_count', 'Extent_count', 'Owning_Institution_count', 'Digital_Format_count', 'Digital_Origin_count']"
   ]
  },
  {
   "cell_type": "markdown",
   "metadata": {
    "collapsed": true
   },
   "source": [
    "### Missing mandatory elements - to be added"
   ]
  },
  {
   "cell_type": "code",
   "execution_count": 34,
   "metadata": {
    "collapsed": false
   },
   "outputs": [
    {
     "data": {
      "text/html": [
       "<div>\n",
       "<table border=\"1\" class=\"dataframe\">\n",
       "  <thead>\n",
       "    <tr style=\"text-align: right;\">\n",
       "      <th></th>\n",
       "      <th></th>\n",
       "      <th>Collection_count</th>\n",
       "      <th>Collection_Description_count</th>\n",
       "      <th>File_Name_count</th>\n",
       "      <th>Title_count</th>\n",
       "      <th>Time_Period_count</th>\n",
       "      <th>Description_count</th>\n",
       "      <th>Type_count</th>\n",
       "      <th>Genre_count</th>\n",
       "      <th>Form_count</th>\n",
       "      <th>Extent_count</th>\n",
       "      <th>Owning_Institution_count</th>\n",
       "      <th>Digital_Format_count</th>\n",
       "      <th>Digital_Origin_count</th>\n",
       "    </tr>\n",
       "    <tr>\n",
       "      <th></th>\n",
       "      <th>Identifier</th>\n",
       "      <th></th>\n",
       "      <th></th>\n",
       "      <th></th>\n",
       "      <th></th>\n",
       "      <th></th>\n",
       "      <th></th>\n",
       "      <th></th>\n",
       "      <th></th>\n",
       "      <th></th>\n",
       "      <th></th>\n",
       "      <th></th>\n",
       "      <th></th>\n",
       "      <th></th>\n",
       "    </tr>\n",
       "  </thead>\n",
       "  <tbody>\n",
       "    <tr>\n",
       "      <th>1</th>\n",
       "      <th>701-151-005-3057-010</th>\n",
       "      <td>1</td>\n",
       "      <td>1</td>\n",
       "      <td>1</td>\n",
       "      <td>1</td>\n",
       "      <td>1</td>\n",
       "      <td>0</td>\n",
       "      <td>1</td>\n",
       "      <td>1</td>\n",
       "      <td>1</td>\n",
       "      <td>1</td>\n",
       "      <td>1</td>\n",
       "      <td>1</td>\n",
       "      <td>1</td>\n",
       "    </tr>\n",
       "    <tr>\n",
       "      <th>2</th>\n",
       "      <th>701-151-005-3057-014</th>\n",
       "      <td>1</td>\n",
       "      <td>1</td>\n",
       "      <td>1</td>\n",
       "      <td>1</td>\n",
       "      <td>1</td>\n",
       "      <td>0</td>\n",
       "      <td>1</td>\n",
       "      <td>1</td>\n",
       "      <td>1</td>\n",
       "      <td>1</td>\n",
       "      <td>1</td>\n",
       "      <td>1</td>\n",
       "      <td>1</td>\n",
       "    </tr>\n",
       "    <tr>\n",
       "      <th>4</th>\n",
       "      <th>701-151-005-4949-001</th>\n",
       "      <td>1</td>\n",
       "      <td>1</td>\n",
       "      <td>1</td>\n",
       "      <td>1</td>\n",
       "      <td>1</td>\n",
       "      <td>0</td>\n",
       "      <td>1</td>\n",
       "      <td>1</td>\n",
       "      <td>1</td>\n",
       "      <td>1</td>\n",
       "      <td>1</td>\n",
       "      <td>1</td>\n",
       "      <td>1</td>\n",
       "    </tr>\n",
       "    <tr>\n",
       "      <th>491</th>\n",
       "      <th>701-151-005-3509-001</th>\n",
       "      <td>1</td>\n",
       "      <td>1</td>\n",
       "      <td>1</td>\n",
       "      <td>0</td>\n",
       "      <td>1</td>\n",
       "      <td>1</td>\n",
       "      <td>1</td>\n",
       "      <td>1</td>\n",
       "      <td>1</td>\n",
       "      <td>1</td>\n",
       "      <td>1</td>\n",
       "      <td>1</td>\n",
       "      <td>1</td>\n",
       "    </tr>\n",
       "  </tbody>\n",
       "</table>\n",
       "</div>"
      ],
      "text/plain": [
       "                          Collection_count  Collection_Description_count  \\\n",
       "    Identifier                                                             \n",
       "1   701-151-005-3057-010                 1                             1   \n",
       "2   701-151-005-3057-014                 1                             1   \n",
       "4   701-151-005-4949-001                 1                             1   \n",
       "491 701-151-005-3509-001                 1                             1   \n",
       "\n",
       "                          File_Name_count  Title_count  Time_Period_count  \\\n",
       "    Identifier                                                              \n",
       "1   701-151-005-3057-010                1            1                  1   \n",
       "2   701-151-005-3057-014                1            1                  1   \n",
       "4   701-151-005-4949-001                1            1                  1   \n",
       "491 701-151-005-3509-001                1            0                  1   \n",
       "\n",
       "                          Description_count  Type_count  Genre_count  \\\n",
       "    Identifier                                                         \n",
       "1   701-151-005-3057-010                  0           1            1   \n",
       "2   701-151-005-3057-014                  0           1            1   \n",
       "4   701-151-005-4949-001                  0           1            1   \n",
       "491 701-151-005-3509-001                  1           1            1   \n",
       "\n",
       "                          Form_count  Extent_count  Owning_Institution_count  \\\n",
       "    Identifier                                                                 \n",
       "1   701-151-005-3057-010           1             1                         1   \n",
       "2   701-151-005-3057-014           1             1                         1   \n",
       "4   701-151-005-4949-001           1             1                         1   \n",
       "491 701-151-005-3509-001           1             1                         1   \n",
       "\n",
       "                          Digital_Format_count  Digital_Origin_count  \n",
       "    Identifier                                                        \n",
       "1   701-151-005-3057-010                     1                     1  \n",
       "2   701-151-005-3057-014                     1                     1  \n",
       "4   701-151-005-4949-001                     1                     1  \n",
       "491 701-151-005-3509-001                     1                     1  "
      ]
     },
     "execution_count": 34,
     "metadata": {},
     "output_type": "execute_result"
    }
   ],
   "source": [
    "mandatory_df = df[mandatory_cols].copy()\n",
    "missing_data = mandatory_df[mandatory_df.sum(axis=1) < 13]\n",
    "missing_data"
   ]
  },
  {
   "cell_type": "markdown",
   "metadata": {},
   "source": [
    "### Subjects analysis"
   ]
  },
  {
   "cell_type": "code",
   "execution_count": 47,
   "metadata": {
    "collapsed": true
   },
   "outputs": [],
   "source": [
    "subject_cols = ['Subject_Topic_count', 'Subject_Personal_Name_count', 'Subject_Corporate_Name_count', 'Location_count']\n",
    "subject_df = df.copy()"
   ]
  },
  {
   "cell_type": "code",
   "execution_count": 48,
   "metadata": {
    "collapsed": false
   },
   "outputs": [
    {
     "data": {
      "text/plain": [
       "   Identifier          \n",
       "0  701-151-005-3057-005    7\n",
       "1  701-151-005-3057-010    4\n",
       "2  701-151-005-3057-014    3\n",
       "3  701-151-005-3061-001    3\n",
       "4  701-151-005-4949-001    2\n",
       "Name: subject_sum, dtype: int64"
      ]
     },
     "execution_count": 48,
     "metadata": {},
     "output_type": "execute_result"
    }
   ],
   "source": [
    "# average # of subjects per record\n",
    "subject_df['subject_sum'] = subject_df[subject_cols].sum(axis=1)\n",
    "subject_df['subject_sum'].head()"
   ]
  },
  {
   "cell_type": "code",
   "execution_count": 49,
   "metadata": {
    "collapsed": false
   },
   "outputs": [
    {
     "data": {
      "text/plain": [
       "7.3600782778864975"
      ]
     },
     "execution_count": 49,
     "metadata": {},
     "output_type": "execute_result"
    }
   ],
   "source": [
    "subject_df['subject_sum'].mean()"
   ]
  },
  {
   "cell_type": "code",
   "execution_count": 50,
   "metadata": {
    "collapsed": false
   },
   "outputs": [
    {
     "data": {
      "text/plain": [
       "19"
      ]
     },
     "execution_count": 50,
     "metadata": {},
     "output_type": "execute_result"
    }
   ],
   "source": [
    "subject_df['subject_sum'].max()"
   ]
  },
  {
   "cell_type": "code",
   "execution_count": 51,
   "metadata": {
    "collapsed": false
   },
   "outputs": [
    {
     "data": {
      "text/plain": [
       "2"
      ]
     },
     "execution_count": 51,
     "metadata": {},
     "output_type": "execute_result"
    }
   ],
   "source": [
    "subject_df['subject_sum'].min()"
   ]
  },
  {
   "cell_type": "code",
   "execution_count": 52,
   "metadata": {
    "collapsed": false
   },
   "outputs": [
    {
     "data": {
      "text/plain": [
       "Collection_count                 1\n",
       "Collection_Description_count     1\n",
       "Title_count                      1\n",
       "Personal_Name_count              0\n",
       "Corporate_Name_count             0\n",
       "Role_count                       1\n",
       "Description_count                1\n",
       "Note_count                       1\n",
       "Type_count                       1\n",
       "Genre_count                      1\n",
       "Form_count                       1\n",
       "Language_count                   0\n",
       "Rights_count                     0\n",
       "Owning_Institution_count         1\n",
       "Digital_Format_count             1\n",
       "Digital_Origin_count             1\n",
       "Time_Period_count                1\n",
       "File_Name_count                  5\n",
       "Subject_Topic_count              4\n",
       "Subject_Personal_Name_count     13\n",
       "Subject_Corporate_Name_count     1\n",
       "Location_count                   1\n",
       "Publisher_count                  1\n",
       "Place_of_Publication_count       0\n",
       "Extent_count                     5\n",
       "Date_Created_count               0\n",
       "Date_Issued_count                1\n",
       "subject_sum                     19\n",
       "Name: (209, 701-151-005-2933-001), dtype: int64"
      ]
     },
     "execution_count": 52,
     "metadata": {},
     "output_type": "execute_result"
    }
   ],
   "source": [
    "# record with the most subjects\n",
    "subject_df.loc[subject_df['subject_sum'].idxmax()]"
   ]
  },
  {
   "cell_type": "code",
   "execution_count": null,
   "metadata": {
    "collapsed": true
   },
   "outputs": [],
   "source": []
  }
 ],
 "metadata": {
  "kernelspec": {
   "display_name": "Python 2",
   "language": "python",
   "name": "python2"
  },
  "language_info": {
   "codemirror_mode": {
    "name": "ipython",
    "version": 2
   },
   "file_extension": ".py",
   "mimetype": "text/x-python",
   "name": "python",
   "nbconvert_exporter": "python",
   "pygments_lexer": "ipython2",
   "version": "2.7.11"
  }
 },
 "nbformat": 4,
 "nbformat_minor": 2
}
