{
 "cells": [
  {
   "cell_type": "markdown",
   "metadata": {},
   "source": [
    "## Data clean-up"
   ]
  },
  {
   "cell_type": "code",
   "execution_count": 17,
   "metadata": {
    "collapsed": true
   },
   "outputs": [],
   "source": [
    "import pandas as pd"
   ]
  },
  {
   "cell_type": "code",
   "execution_count": 18,
   "metadata": {
    "collapsed": false
   },
   "outputs": [],
   "source": [
    "# import csv data to pandas dataframe\n",
    "# row 0 includes DSpace property names (ignore)\n",
    "fh = '../files/coll151_metadata_17-10-29.csv'\n",
    "orig_df = pd.read_csv(fh, header=1, skiprows=0)"
   ]
  },
  {
   "cell_type": "code",
   "execution_count": 19,
   "metadata": {
    "collapsed": false
   },
   "outputs": [
    {
     "data": {
      "text/plain": [
       "Index([u'Collection', u'Collection_Description', u'File_Name', u'Identifier',\n",
       "       u'Title', u'Personal_Name', u'Corporate_Name', u'Role',\n",
       "       u'Subject_Topic', u'Subject_Personal_Name', u'Subject_Corporate_Name',\n",
       "       u'Location', u'Time_Period', u'Date_Created', u'Date_Issued',\n",
       "       u'Publisher', u'Place_of_Publication', u'Description', u'Note', u'Type',\n",
       "       u'Genre', u'Form', u'Extent', u'Language', u'Related_Resource',\n",
       "       u'Rights', u'Owning_Institution', u'Digital_Format', u'Digital_Origin'],\n",
       "      dtype='object')"
      ]
     },
     "execution_count": 19,
     "metadata": {},
     "output_type": "execute_result"
    }
   ],
   "source": [
    "# list columns\n",
    "orig_df.columns"
   ]
  },
  {
   "cell_type": "code",
   "execution_count": 20,
   "metadata": {
    "collapsed": false,
    "scrolled": true
   },
   "outputs": [
    {
     "data": {
      "text/html": [
       "<div>\n",
       "<table border=\"1\" class=\"dataframe\">\n",
       "  <thead>\n",
       "    <tr style=\"text-align: right;\">\n",
       "      <th></th>\n",
       "      <th>Collection</th>\n",
       "      <th>Collection_Description</th>\n",
       "      <th>File_Name</th>\n",
       "      <th>Identifier</th>\n",
       "      <th>Title</th>\n",
       "      <th>Personal_Name</th>\n",
       "      <th>Corporate_Name</th>\n",
       "      <th>Role</th>\n",
       "      <th>Subject_Topic</th>\n",
       "      <th>Subject_Personal_Name</th>\n",
       "      <th>...</th>\n",
       "      <th>Type</th>\n",
       "      <th>Genre</th>\n",
       "      <th>Form</th>\n",
       "      <th>Extent</th>\n",
       "      <th>Language</th>\n",
       "      <th>Related_Resource</th>\n",
       "      <th>Rights</th>\n",
       "      <th>Owning_Institution</th>\n",
       "      <th>Digital_Format</th>\n",
       "      <th>Digital_Origin</th>\n",
       "    </tr>\n",
       "  </thead>\n",
       "  <tbody>\n",
       "    <tr>\n",
       "      <th>0</th>\n",
       "      <td>World War II in Pictures (temporary title)</td>\n",
       "      <td>The collection consist of photographs related ...</td>\n",
       "      <td>701-151-005-3057-005.tif</td>\n",
       "      <td>701-151-005-3057-005</td>\n",
       "      <td>Welcoming of general Sikorski in the Polish Ar...</td>\n",
       "      <td>NaN</td>\n",
       "      <td>NaN</td>\n",
       "      <td>Author</td>\n",
       "      <td>World War (1939-1945)</td>\n",
       "      <td>Okulicki, Leopold;Sikorski, Władysław;Anders, ...</td>\n",
       "      <td>...</td>\n",
       "      <td>still image</td>\n",
       "      <td>photographs</td>\n",
       "      <td>black-and-white photographs</td>\n",
       "      <td>19x25 cm</td>\n",
       "      <td>pl</td>\n",
       "      <td>NaN</td>\n",
       "      <td>TBD</td>\n",
       "      <td>Józef Pilsudski Institute of America</td>\n",
       "      <td>image/tiff</td>\n",
       "      <td>digitized other analog</td>\n",
       "    </tr>\n",
       "    <tr>\n",
       "      <th>1</th>\n",
       "      <td>World War II in Pictures (temporary title)</td>\n",
       "      <td>The collection consist of photographs related ...</td>\n",
       "      <td>701-151-005-3057-010.tif</td>\n",
       "      <td>701-151-005-3057-010</td>\n",
       "      <td>General Władysław Sikorski, Polish Premier, ch...</td>\n",
       "      <td>NaN</td>\n",
       "      <td>NaN</td>\n",
       "      <td>Author</td>\n",
       "      <td>World War II (1939-1945)</td>\n",
       "      <td>Sikorski, Władysław;Tokarzewski-Karaszewicz, M...</td>\n",
       "      <td>...</td>\n",
       "      <td>still image</td>\n",
       "      <td>photographs</td>\n",
       "      <td>black-and-white photographs</td>\n",
       "      <td>12x17 cm</td>\n",
       "      <td>pl</td>\n",
       "      <td>NaN</td>\n",
       "      <td>TBD</td>\n",
       "      <td>Józef Pilsudski Institute of America</td>\n",
       "      <td>image/tiff</td>\n",
       "      <td>digitized other analog</td>\n",
       "    </tr>\n",
       "    <tr>\n",
       "      <th>2</th>\n",
       "      <td>World War II in Pictures (temporary title)</td>\n",
       "      <td>The collection consist of photographs related ...</td>\n",
       "      <td>701-151-005-3057-014.tif</td>\n",
       "      <td>701-151-005-3057-014</td>\n",
       "      <td>General Sikorski in Russia, talking to the pol...</td>\n",
       "      <td>NaN</td>\n",
       "      <td>NaN</td>\n",
       "      <td>Author</td>\n",
       "      <td>World War (1939-1945)</td>\n",
       "      <td>Sikorski, Władysław</td>\n",
       "      <td>...</td>\n",
       "      <td>still image</td>\n",
       "      <td>photographs</td>\n",
       "      <td>black-and-white photographs</td>\n",
       "      <td>14x19 cm</td>\n",
       "      <td>NaN</td>\n",
       "      <td>NaN</td>\n",
       "      <td>TBD</td>\n",
       "      <td>Józef Pilsudski Institute of America</td>\n",
       "      <td>image/tiff</td>\n",
       "      <td>digitized other analog</td>\n",
       "    </tr>\n",
       "    <tr>\n",
       "      <th>3</th>\n",
       "      <td>World War II in Pictures (temporary title)</td>\n",
       "      <td>The collection consist of photographs related ...</td>\n",
       "      <td>701-151-005-3061-001.tif</td>\n",
       "      <td>701-151-005-3061-001</td>\n",
       "      <td>The military command of Polish Army in the Sov...</td>\n",
       "      <td>NaN</td>\n",
       "      <td>NaN</td>\n",
       "      <td>Author</td>\n",
       "      <td>World War (1939-1945)</td>\n",
       "      <td>Anders, Władysław;Okulicki, Leopold</td>\n",
       "      <td>...</td>\n",
       "      <td>still image</td>\n",
       "      <td>photographs</td>\n",
       "      <td>black-and-white photographs</td>\n",
       "      <td>13x18 cm</td>\n",
       "      <td>pl</td>\n",
       "      <td>NaN</td>\n",
       "      <td>TBD</td>\n",
       "      <td>Józef Pilsudski Institute of America</td>\n",
       "      <td>image/tiff</td>\n",
       "      <td>digitized other analog</td>\n",
       "    </tr>\n",
       "    <tr>\n",
       "      <th>4</th>\n",
       "      <td>World War II in Pictures (temporary title)</td>\n",
       "      <td>The collection consist of photographs related ...</td>\n",
       "      <td>701-151-005-4949-001.tif</td>\n",
       "      <td>701-151-005-4949-001</td>\n",
       "      <td>Polish children before transport to India</td>\n",
       "      <td>NaN</td>\n",
       "      <td>NaN</td>\n",
       "      <td>Author</td>\n",
       "      <td>World War II (1939-1945);Children and war</td>\n",
       "      <td>NaN</td>\n",
       "      <td>...</td>\n",
       "      <td>still image</td>\n",
       "      <td>photographs</td>\n",
       "      <td>black-and-white photographs</td>\n",
       "      <td>12x12 cm</td>\n",
       "      <td>pl</td>\n",
       "      <td>NaN</td>\n",
       "      <td>TBD</td>\n",
       "      <td>Józef Pilsudski Institute of America</td>\n",
       "      <td>image/tiff</td>\n",
       "      <td>digitized other analog</td>\n",
       "    </tr>\n",
       "  </tbody>\n",
       "</table>\n",
       "<p>5 rows × 29 columns</p>\n",
       "</div>"
      ],
      "text/plain": [
       "                                   Collection  \\\n",
       "0  World War II in Pictures (temporary title)   \n",
       "1  World War II in Pictures (temporary title)   \n",
       "2  World War II in Pictures (temporary title)   \n",
       "3  World War II in Pictures (temporary title)   \n",
       "4  World War II in Pictures (temporary title)   \n",
       "\n",
       "                              Collection_Description  \\\n",
       "0  The collection consist of photographs related ...   \n",
       "1  The collection consist of photographs related ...   \n",
       "2  The collection consist of photographs related ...   \n",
       "3  The collection consist of photographs related ...   \n",
       "4  The collection consist of photographs related ...   \n",
       "\n",
       "                  File_Name            Identifier  \\\n",
       "0  701-151-005-3057-005.tif  701-151-005-3057-005   \n",
       "1  701-151-005-3057-010.tif  701-151-005-3057-010   \n",
       "2  701-151-005-3057-014.tif  701-151-005-3057-014   \n",
       "3  701-151-005-3061-001.tif  701-151-005-3061-001   \n",
       "4  701-151-005-4949-001.tif  701-151-005-4949-001   \n",
       "\n",
       "                                               Title Personal_Name  \\\n",
       "0  Welcoming of general Sikorski in the Polish Ar...           NaN   \n",
       "1  General Władysław Sikorski, Polish Premier, ch...           NaN   \n",
       "2  General Sikorski in Russia, talking to the pol...           NaN   \n",
       "3  The military command of Polish Army in the Sov...           NaN   \n",
       "4          Polish children before transport to India           NaN   \n",
       "\n",
       "  Corporate_Name    Role                              Subject_Topic  \\\n",
       "0            NaN  Author                      World War (1939-1945)   \n",
       "1            NaN  Author                   World War II (1939-1945)   \n",
       "2            NaN  Author                      World War (1939-1945)   \n",
       "3            NaN  Author                      World War (1939-1945)   \n",
       "4            NaN  Author  World War II (1939-1945);Children and war   \n",
       "\n",
       "                               Subject_Personal_Name           ...            \\\n",
       "0  Okulicki, Leopold;Sikorski, Władysław;Anders, ...           ...             \n",
       "1  Sikorski, Władysław;Tokarzewski-Karaszewicz, M...           ...             \n",
       "2                                Sikorski, Władysław           ...             \n",
       "3                Anders, Władysław;Okulicki, Leopold           ...             \n",
       "4                                                NaN           ...             \n",
       "\n",
       "          Type        Genre                         Form    Extent Language  \\\n",
       "0  still image  photographs  black-and-white photographs  19x25 cm       pl   \n",
       "1  still image  photographs  black-and-white photographs  12x17 cm       pl   \n",
       "2  still image  photographs  black-and-white photographs  14x19 cm      NaN   \n",
       "3  still image  photographs  black-and-white photographs  13x18 cm       pl   \n",
       "4  still image  photographs  black-and-white photographs  12x12 cm       pl   \n",
       "\n",
       "  Related_Resource Rights                    Owning_Institution  \\\n",
       "0              NaN    TBD  Józef Pilsudski Institute of America   \n",
       "1              NaN    TBD  Józef Pilsudski Institute of America   \n",
       "2              NaN    TBD  Józef Pilsudski Institute of America   \n",
       "3              NaN    TBD  Józef Pilsudski Institute of America   \n",
       "4              NaN    TBD  Józef Pilsudski Institute of America   \n",
       "\n",
       "  Digital_Format          Digital_Origin  \n",
       "0     image/tiff  digitized other analog  \n",
       "1     image/tiff  digitized other analog  \n",
       "2     image/tiff  digitized other analog  \n",
       "3     image/tiff  digitized other analog  \n",
       "4     image/tiff  digitized other analog  \n",
       "\n",
       "[5 rows x 29 columns]"
      ]
     },
     "execution_count": 20,
     "metadata": {},
     "output_type": "execute_result"
    }
   ],
   "source": [
    "# show first 5 rows in dataframe\n",
    "orig_df.head(5)"
   ]
  },
  {
   "cell_type": "code",
   "execution_count": 21,
   "metadata": {
    "collapsed": false
   },
   "outputs": [
    {
     "data": {
      "text/plain": [
       "(512, 29)"
      ]
     },
     "execution_count": 21,
     "metadata": {},
     "output_type": "execute_result"
    }
   ],
   "source": [
    "# number of rows and columns in dataframe\n",
    "orig_df.shape"
   ]
  },
  {
   "cell_type": "code",
   "execution_count": 22,
   "metadata": {
    "collapsed": false
   },
   "outputs": [
    {
     "data": {
      "text/plain": [
       "array(['World War II in Pictures (temporary title)'], dtype=object)"
      ]
     },
     "execution_count": 22,
     "metadata": {},
     "output_type": "execute_result"
    }
   ],
   "source": [
    "# since Collection & Collection_Description consist of the same values for all data,\n",
    "# these elements can be omitted from the analysis\n",
    "orig_df.Collection.unique()"
   ]
  },
  {
   "cell_type": "code",
   "execution_count": 23,
   "metadata": {
    "collapsed": false
   },
   "outputs": [
    {
     "data": {
      "text/plain": [
       "array([ 'The collection consist of photographs related to Polish Armed Forces in the West, Polish Army in Russia and their journey to Italy \\xe2\\x80\\x93  until they reached Monte Cassino, as well as fate of Polish civilians including children during the war and images of Polish Government- in-Exile officials. (to be refined)'], dtype=object)"
      ]
     },
     "execution_count": 23,
     "metadata": {},
     "output_type": "execute_result"
    }
   ],
   "source": [
    "orig_df.Collection_Description.unique()"
   ]
  },
  {
   "cell_type": "markdown",
   "metadata": {},
   "source": [
    "### Verifying files and ids"
   ]
  },
  {
   "cell_type": "markdown",
   "metadata": {},
   "source": [
    "* find missing data"
   ]
  },
  {
   "cell_type": "code",
   "execution_count": 24,
   "metadata": {
    "collapsed": false
   },
   "outputs": [
    {
     "data": {
      "text/html": [
       "<div>\n",
       "<table border=\"1\" class=\"dataframe\">\n",
       "  <thead>\n",
       "    <tr style=\"text-align: right;\">\n",
       "      <th></th>\n",
       "      <th>Collection</th>\n",
       "      <th>Collection_Description</th>\n",
       "      <th>File_Name</th>\n",
       "      <th>Identifier</th>\n",
       "      <th>Title</th>\n",
       "      <th>Personal_Name</th>\n",
       "      <th>Corporate_Name</th>\n",
       "      <th>Role</th>\n",
       "      <th>Subject_Topic</th>\n",
       "      <th>Subject_Personal_Name</th>\n",
       "      <th>...</th>\n",
       "      <th>Type</th>\n",
       "      <th>Genre</th>\n",
       "      <th>Form</th>\n",
       "      <th>Extent</th>\n",
       "      <th>Language</th>\n",
       "      <th>Related_Resource</th>\n",
       "      <th>Rights</th>\n",
       "      <th>Owning_Institution</th>\n",
       "      <th>Digital_Format</th>\n",
       "      <th>Digital_Origin</th>\n",
       "    </tr>\n",
       "  </thead>\n",
       "  <tbody>\n",
       "    <tr>\n",
       "      <th>5</th>\n",
       "      <td>World War II in Pictures (temporary title)</td>\n",
       "      <td>The collection consist of photographs related ...</td>\n",
       "      <td>NaN</td>\n",
       "      <td>#VALUE!</td>\n",
       "      <td>Test Title in English</td>\n",
       "      <td>Smith, John;Kowalski, Antoni</td>\n",
       "      <td>Author-company</td>\n",
       "      <td>Author</td>\n",
       "      <td>World War (1939-1945)</td>\n",
       "      <td>Sosnkowski, Kazimierz;Abamowicz, Konstanty</td>\n",
       "      <td>...</td>\n",
       "      <td>still image</td>\n",
       "      <td>photographs</td>\n",
       "      <td>black-and-white photographs</td>\n",
       "      <td>12x33 cm</td>\n",
       "      <td>NaN</td>\n",
       "      <td>NaN</td>\n",
       "      <td>TBD</td>\n",
       "      <td>Józef Pilsudski Institute of America</td>\n",
       "      <td>image/tiff</td>\n",
       "      <td>digitized other analog</td>\n",
       "    </tr>\n",
       "  </tbody>\n",
       "</table>\n",
       "<p>1 rows × 29 columns</p>\n",
       "</div>"
      ],
      "text/plain": [
       "                                   Collection  \\\n",
       "5  World War II in Pictures (temporary title)   \n",
       "\n",
       "                              Collection_Description File_Name Identifier  \\\n",
       "5  The collection consist of photographs related ...       NaN    #VALUE!   \n",
       "\n",
       "                   Title                 Personal_Name  Corporate_Name  \\\n",
       "5  Test Title in English  Smith, John;Kowalski, Antoni  Author-company   \n",
       "\n",
       "     Role          Subject_Topic                       Subject_Personal_Name  \\\n",
       "5  Author  World War (1939-1945)  Sosnkowski, Kazimierz;Abamowicz, Konstanty   \n",
       "\n",
       "            ...                   Type        Genre  \\\n",
       "5           ...            still image  photographs   \n",
       "\n",
       "                          Form    Extent Language Related_Resource Rights  \\\n",
       "5  black-and-white photographs  12x33 cm      NaN              NaN    TBD   \n",
       "\n",
       "                     Owning_Institution Digital_Format          Digital_Origin  \n",
       "5  Józef Pilsudski Institute of America     image/tiff  digitized other analog  \n",
       "\n",
       "[1 rows x 29 columns]"
      ]
     },
     "execution_count": 24,
     "metadata": {},
     "output_type": "execute_result"
    }
   ],
   "source": [
    "# test row to be removed!\n",
    "orig_df[orig_df['File_Name'].isnull()]"
   ]
  },
  {
   "cell_type": "code",
   "execution_count": 25,
   "metadata": {
    "collapsed": true
   },
   "outputs": [],
   "source": [
    "# remove test row from dataframe\n",
    "orig_df = orig_df.drop(orig_df.index[5])"
   ]
  },
  {
   "cell_type": "code",
   "execution_count": 26,
   "metadata": {
    "collapsed": false
   },
   "outputs": [
    {
     "data": {
      "text/html": [
       "<div>\n",
       "<table border=\"1\" class=\"dataframe\">\n",
       "  <thead>\n",
       "    <tr style=\"text-align: right;\">\n",
       "      <th></th>\n",
       "      <th>Collection</th>\n",
       "      <th>Collection_Description</th>\n",
       "      <th>File_Name</th>\n",
       "      <th>Identifier</th>\n",
       "      <th>Title</th>\n",
       "      <th>Personal_Name</th>\n",
       "      <th>Corporate_Name</th>\n",
       "      <th>Role</th>\n",
       "      <th>Subject_Topic</th>\n",
       "      <th>Subject_Personal_Name</th>\n",
       "      <th>...</th>\n",
       "      <th>Type</th>\n",
       "      <th>Genre</th>\n",
       "      <th>Form</th>\n",
       "      <th>Extent</th>\n",
       "      <th>Language</th>\n",
       "      <th>Related_Resource</th>\n",
       "      <th>Rights</th>\n",
       "      <th>Owning_Institution</th>\n",
       "      <th>Digital_Format</th>\n",
       "      <th>Digital_Origin</th>\n",
       "    </tr>\n",
       "  </thead>\n",
       "  <tbody>\n",
       "  </tbody>\n",
       "</table>\n",
       "<p>0 rows × 29 columns</p>\n",
       "</div>"
      ],
      "text/plain": [
       "Empty DataFrame\n",
       "Columns: [Collection, Collection_Description, File_Name, Identifier, Title, Personal_Name, Corporate_Name, Role, Subject_Topic, Subject_Personal_Name, Subject_Corporate_Name, Location, Time_Period, Date_Created, Date_Issued, Publisher, Place_of_Publication, Description, Note, Type, Genre, Form, Extent, Language, Related_Resource, Rights, Owning_Institution, Digital_Format, Digital_Origin]\n",
       "Index: []\n",
       "\n",
       "[0 rows x 29 columns]"
      ]
     },
     "execution_count": 26,
     "metadata": {},
     "output_type": "execute_result"
    }
   ],
   "source": [
    "orig_df[orig_df['Identifier'].isnull()]"
   ]
  },
  {
   "cell_type": "markdown",
   "metadata": {},
   "source": [
    "* find if files names are unique in each record"
   ]
  },
  {
   "cell_type": "code",
   "execution_count": 27,
   "metadata": {
    "collapsed": true
   },
   "outputs": [],
   "source": [
    "# create df for only file names and id\n",
    "file_df = orig_df[['File_Name', 'Identifier']].copy()\n",
    "s = file_df['File_Name'].str.split(';').apply(pd.Series, 1).stack()"
   ]
  },
  {
   "cell_type": "code",
   "execution_count": 28,
   "metadata": {
    "collapsed": true
   },
   "outputs": [],
   "source": [
    "s.index = s.index.droplevel(-1)  # to line up with file_df index"
   ]
  },
  {
   "cell_type": "code",
   "execution_count": 29,
   "metadata": {
    "collapsed": true
   },
   "outputs": [],
   "source": [
    "s.name = 'File_Name'"
   ]
  },
  {
   "cell_type": "code",
   "execution_count": 30,
   "metadata": {
    "collapsed": true
   },
   "outputs": [],
   "source": [
    "del file_df['File_Name']"
   ]
  },
  {
   "cell_type": "code",
   "execution_count": 31,
   "metadata": {
    "collapsed": true
   },
   "outputs": [],
   "source": [
    "file_df = file_df.join(s)"
   ]
  },
  {
   "cell_type": "code",
   "execution_count": 32,
   "metadata": {
    "collapsed": false
   },
   "outputs": [
    {
     "data": {
      "text/html": [
       "<div>\n",
       "<table border=\"1\" class=\"dataframe\">\n",
       "  <thead>\n",
       "    <tr style=\"text-align: right;\">\n",
       "      <th></th>\n",
       "      <th>Identifier</th>\n",
       "      <th>File_Name</th>\n",
       "    </tr>\n",
       "  </thead>\n",
       "  <tbody>\n",
       "    <tr>\n",
       "      <th>0</th>\n",
       "      <td>701-151-005-3057-005</td>\n",
       "      <td>701-151-005-3057-005.tif</td>\n",
       "    </tr>\n",
       "    <tr>\n",
       "      <th>1</th>\n",
       "      <td>701-151-005-3057-010</td>\n",
       "      <td>701-151-005-3057-010.tif</td>\n",
       "    </tr>\n",
       "    <tr>\n",
       "      <th>2</th>\n",
       "      <td>701-151-005-3057-014</td>\n",
       "      <td>701-151-005-3057-014.tif</td>\n",
       "    </tr>\n",
       "    <tr>\n",
       "      <th>3</th>\n",
       "      <td>701-151-005-3061-001</td>\n",
       "      <td>701-151-005-3061-001.tif</td>\n",
       "    </tr>\n",
       "    <tr>\n",
       "      <th>4</th>\n",
       "      <td>701-151-005-4949-001</td>\n",
       "      <td>701-151-005-4949-001.tif</td>\n",
       "    </tr>\n",
       "    <tr>\n",
       "      <th>6</th>\n",
       "      <td>701-151-005-2464-001</td>\n",
       "      <td>701-151-005-2464-001.tif</td>\n",
       "    </tr>\n",
       "    <tr>\n",
       "      <th>7</th>\n",
       "      <td>701-151-005-2505-001</td>\n",
       "      <td>701-151-005-2505-001.tif</td>\n",
       "    </tr>\n",
       "    <tr>\n",
       "      <th>8</th>\n",
       "      <td>701-151-005-2484-001</td>\n",
       "      <td>701-151-005-2484-001.tif</td>\n",
       "    </tr>\n",
       "    <tr>\n",
       "      <th>9</th>\n",
       "      <td>701-151-005-2487-001</td>\n",
       "      <td>701-151-005-2487-001.tif</td>\n",
       "    </tr>\n",
       "    <tr>\n",
       "      <th>9</th>\n",
       "      <td>701-151-005-2487-001</td>\n",
       "      <td>701-151-005-2487-002.tif</td>\n",
       "    </tr>\n",
       "    <tr>\n",
       "      <th>10</th>\n",
       "      <td>701-151-005-2579-001</td>\n",
       "      <td>701-151-005-2579-001.tif</td>\n",
       "    </tr>\n",
       "    <tr>\n",
       "      <th>10</th>\n",
       "      <td>701-151-005-2579-001</td>\n",
       "      <td>701-151-005-2579-002.tif</td>\n",
       "    </tr>\n",
       "    <tr>\n",
       "      <th>11</th>\n",
       "      <td>701-151-005-2486-001</td>\n",
       "      <td>701-151-005-2486-001.tif</td>\n",
       "    </tr>\n",
       "    <tr>\n",
       "      <th>12</th>\n",
       "      <td>701-151-005-2480-001</td>\n",
       "      <td>701-151-005-2480-001.tif</td>\n",
       "    </tr>\n",
       "    <tr>\n",
       "      <th>13</th>\n",
       "      <td>701-151-005-2472-001</td>\n",
       "      <td>701-151-005-2472-001.tif</td>\n",
       "    </tr>\n",
       "  </tbody>\n",
       "</table>\n",
       "</div>"
      ],
      "text/plain": [
       "              Identifier                 File_Name\n",
       "0   701-151-005-3057-005  701-151-005-3057-005.tif\n",
       "1   701-151-005-3057-010  701-151-005-3057-010.tif\n",
       "2   701-151-005-3057-014  701-151-005-3057-014.tif\n",
       "3   701-151-005-3061-001  701-151-005-3061-001.tif\n",
       "4   701-151-005-4949-001  701-151-005-4949-001.tif\n",
       "6   701-151-005-2464-001  701-151-005-2464-001.tif\n",
       "7   701-151-005-2505-001  701-151-005-2505-001.tif\n",
       "8   701-151-005-2484-001  701-151-005-2484-001.tif\n",
       "9   701-151-005-2487-001  701-151-005-2487-001.tif\n",
       "9   701-151-005-2487-001  701-151-005-2487-002.tif\n",
       "10  701-151-005-2579-001  701-151-005-2579-001.tif\n",
       "10  701-151-005-2579-001  701-151-005-2579-002.tif\n",
       "11  701-151-005-2486-001  701-151-005-2486-001.tif\n",
       "12  701-151-005-2480-001  701-151-005-2480-001.tif\n",
       "13  701-151-005-2472-001  701-151-005-2472-001.tif"
      ]
     },
     "execution_count": 32,
     "metadata": {},
     "output_type": "execute_result"
    }
   ],
   "source": [
    "file_df.head(15)"
   ]
  },
  {
   "cell_type": "code",
   "execution_count": 40,
   "metadata": {
    "collapsed": false
   },
   "outputs": [],
   "source": [
    "dups = file_df[file_df.duplicated(keep=False)].sort_values(['Identifier', 'File_Name'])"
   ]
  },
  {
   "cell_type": "code",
   "execution_count": 41,
   "metadata": {
    "collapsed": false,
    "scrolled": false
   },
   "outputs": [
    {
     "data": {
      "text/html": [
       "<div>\n",
       "<table border=\"1\" class=\"dataframe\">\n",
       "  <thead>\n",
       "    <tr style=\"text-align: right;\">\n",
       "      <th></th>\n",
       "      <th>Identifier</th>\n",
       "      <th>File_Name</th>\n",
       "    </tr>\n",
       "  </thead>\n",
       "  <tbody>\n",
       "    <tr>\n",
       "      <th>20</th>\n",
       "      <td>701-151-005-2534-001</td>\n",
       "      <td>701-151-005-2534-001.tif</td>\n",
       "    </tr>\n",
       "    <tr>\n",
       "      <th>406</th>\n",
       "      <td>701-151-005-2534-001</td>\n",
       "      <td>701-151-005-2534-001.tif</td>\n",
       "    </tr>\n",
       "    <tr>\n",
       "      <th>14</th>\n",
       "      <td>701-151-005-2573-001</td>\n",
       "      <td>701-151-005-2573-001.tif</td>\n",
       "    </tr>\n",
       "    <tr>\n",
       "      <th>33</th>\n",
       "      <td>701-151-005-2573-001</td>\n",
       "      <td>701-151-005-2573-001.tif</td>\n",
       "    </tr>\n",
       "    <tr>\n",
       "      <th>174</th>\n",
       "      <td>701-151-005-2673-001</td>\n",
       "      <td>701-151-005-2673-001.tif</td>\n",
       "    </tr>\n",
       "    <tr>\n",
       "      <th>259</th>\n",
       "      <td>701-151-005-2673-001</td>\n",
       "      <td>701-151-005-2673-001.tif</td>\n",
       "    </tr>\n",
       "    <tr>\n",
       "      <th>174</th>\n",
       "      <td>701-151-005-2673-001</td>\n",
       "      <td>701-151-005-2673-002.tif</td>\n",
       "    </tr>\n",
       "    <tr>\n",
       "      <th>259</th>\n",
       "      <td>701-151-005-2673-001</td>\n",
       "      <td>701-151-005-2673-002.tif</td>\n",
       "    </tr>\n",
       "    <tr>\n",
       "      <th>0</th>\n",
       "      <td>701-151-005-3057-005</td>\n",
       "      <td>701-151-005-3057-005.tif</td>\n",
       "    </tr>\n",
       "    <tr>\n",
       "      <th>501</th>\n",
       "      <td>701-151-005-3057-005</td>\n",
       "      <td>701-151-005-3057-005.tif</td>\n",
       "    </tr>\n",
       "    <tr>\n",
       "      <th>3</th>\n",
       "      <td>701-151-005-3061-001</td>\n",
       "      <td>701-151-005-3061-001.tif</td>\n",
       "    </tr>\n",
       "    <tr>\n",
       "      <th>264</th>\n",
       "      <td>701-151-005-3061-001</td>\n",
       "      <td>701-151-005-3061-001.tif</td>\n",
       "    </tr>\n",
       "    <tr>\n",
       "      <th>4</th>\n",
       "      <td>701-151-005-4949-001</td>\n",
       "      <td>701-151-005-4949-001.tif</td>\n",
       "    </tr>\n",
       "    <tr>\n",
       "      <th>107</th>\n",
       "      <td>701-151-005-4949-001</td>\n",
       "      <td>701-151-005-4949-001.tif</td>\n",
       "    </tr>\n",
       "  </tbody>\n",
       "</table>\n",
       "</div>"
      ],
      "text/plain": [
       "               Identifier                 File_Name\n",
       "20   701-151-005-2534-001  701-151-005-2534-001.tif\n",
       "406  701-151-005-2534-001  701-151-005-2534-001.tif\n",
       "14   701-151-005-2573-001  701-151-005-2573-001.tif\n",
       "33   701-151-005-2573-001  701-151-005-2573-001.tif\n",
       "174  701-151-005-2673-001  701-151-005-2673-001.tif\n",
       "259  701-151-005-2673-001  701-151-005-2673-001.tif\n",
       "174  701-151-005-2673-001  701-151-005-2673-002.tif\n",
       "259  701-151-005-2673-001  701-151-005-2673-002.tif\n",
       "0    701-151-005-3057-005  701-151-005-3057-005.tif\n",
       "501  701-151-005-3057-005  701-151-005-3057-005.tif\n",
       "3    701-151-005-3061-001  701-151-005-3061-001.tif\n",
       "264  701-151-005-3061-001  701-151-005-3061-001.tif\n",
       "4    701-151-005-4949-001  701-151-005-4949-001.tif\n",
       "107  701-151-005-4949-001  701-151-005-4949-001.tif"
      ]
     },
     "execution_count": 41,
     "metadata": {},
     "output_type": "execute_result"
    }
   ],
   "source": [
    "dups"
   ]
  },
  {
   "cell_type": "code",
   "execution_count": null,
   "metadata": {
    "collapsed": true
   },
   "outputs": [],
   "source": []
  }
 ],
 "metadata": {
  "kernelspec": {
   "display_name": "Python 2",
   "language": "python",
   "name": "python2"
  },
  "language_info": {
   "codemirror_mode": {
    "name": "ipython",
    "version": 2
   },
   "file_extension": ".py",
   "mimetype": "text/x-python",
   "name": "python",
   "nbconvert_exporter": "python",
   "pygments_lexer": "ipython2",
   "version": "2.7.11"
  }
 },
 "nbformat": 4,
 "nbformat_minor": 2
}
